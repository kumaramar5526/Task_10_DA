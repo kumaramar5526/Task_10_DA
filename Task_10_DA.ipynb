{
  "nbformat": 4,
  "nbformat_minor": 0,
  "metadata": {
    "colab": {
      "provenance": [],
      "authorship_tag": "ABX9TyOwdQds35fYTelhmwCD4QOZ",
      "include_colab_link": true
    },
    "kernelspec": {
      "name": "python3",
      "display_name": "Python 3"
    },
    "language_info": {
      "name": "python"
    }
  },
  "cells": [
    {
      "cell_type": "markdown",
      "metadata": {
        "id": "view-in-github",
        "colab_type": "text"
      },
      "source": [
        "<a href=\"https://colab.research.google.com/github/kumaramar5526/Task_10_DA/blob/main/Task_10_DA.ipynb\" target=\"_parent\"><img src=\"https://colab.research.google.com/assets/colab-badge.svg\" alt=\"Open In Colab\"/></a>"
      ]
    },
    {
      "cell_type": "code",
      "source": [
        "pip install requests beautifulsoup4 pandas matplotlib lxml\n"
      ],
      "metadata": {
        "colab": {
          "base_uri": "https://localhost:8080/"
        },
        "id": "aXa18-394sqG",
        "outputId": "20117886-82ef-4c36-aaa3-4ec02553254b"
      },
      "execution_count": 9,
      "outputs": [
        {
          "output_type": "stream",
          "name": "stdout",
          "text": [
            "Requirement already satisfied: requests in /usr/local/lib/python3.12/dist-packages (2.32.4)\n",
            "Requirement already satisfied: beautifulsoup4 in /usr/local/lib/python3.12/dist-packages (4.13.5)\n",
            "Requirement already satisfied: pandas in /usr/local/lib/python3.12/dist-packages (2.2.2)\n",
            "Requirement already satisfied: matplotlib in /usr/local/lib/python3.12/dist-packages (3.10.0)\n",
            "Requirement already satisfied: lxml in /usr/local/lib/python3.12/dist-packages (5.4.0)\n",
            "Requirement already satisfied: charset_normalizer<4,>=2 in /usr/local/lib/python3.12/dist-packages (from requests) (3.4.3)\n",
            "Requirement already satisfied: idna<4,>=2.5 in /usr/local/lib/python3.12/dist-packages (from requests) (3.10)\n",
            "Requirement already satisfied: urllib3<3,>=1.21.1 in /usr/local/lib/python3.12/dist-packages (from requests) (2.5.0)\n",
            "Requirement already satisfied: certifi>=2017.4.17 in /usr/local/lib/python3.12/dist-packages (from requests) (2025.8.3)\n",
            "Requirement already satisfied: soupsieve>1.2 in /usr/local/lib/python3.12/dist-packages (from beautifulsoup4) (2.8)\n",
            "Requirement already satisfied: typing-extensions>=4.0.0 in /usr/local/lib/python3.12/dist-packages (from beautifulsoup4) (4.15.0)\n",
            "Requirement already satisfied: numpy>=1.26.0 in /usr/local/lib/python3.12/dist-packages (from pandas) (2.0.2)\n",
            "Requirement already satisfied: python-dateutil>=2.8.2 in /usr/local/lib/python3.12/dist-packages (from pandas) (2.9.0.post0)\n",
            "Requirement already satisfied: pytz>=2020.1 in /usr/local/lib/python3.12/dist-packages (from pandas) (2025.2)\n",
            "Requirement already satisfied: tzdata>=2022.7 in /usr/local/lib/python3.12/dist-packages (from pandas) (2025.2)\n",
            "Requirement already satisfied: contourpy>=1.0.1 in /usr/local/lib/python3.12/dist-packages (from matplotlib) (1.3.3)\n",
            "Requirement already satisfied: cycler>=0.10 in /usr/local/lib/python3.12/dist-packages (from matplotlib) (0.12.1)\n",
            "Requirement already satisfied: fonttools>=4.22.0 in /usr/local/lib/python3.12/dist-packages (from matplotlib) (4.59.2)\n",
            "Requirement already satisfied: kiwisolver>=1.3.1 in /usr/local/lib/python3.12/dist-packages (from matplotlib) (1.4.9)\n",
            "Requirement already satisfied: packaging>=20.0 in /usr/local/lib/python3.12/dist-packages (from matplotlib) (25.0)\n",
            "Requirement already satisfied: pillow>=8 in /usr/local/lib/python3.12/dist-packages (from matplotlib) (11.3.0)\n",
            "Requirement already satisfied: pyparsing>=2.3.1 in /usr/local/lib/python3.12/dist-packages (from matplotlib) (3.2.3)\n",
            "Requirement already satisfied: six>=1.5 in /usr/local/lib/python3.12/dist-packages (from python-dateutil>=2.8.2->pandas) (1.17.0)\n"
          ]
        }
      ]
    },
    {
      "cell_type": "markdown",
      "source": [
        "Task 10: Scrape and Analyze Job Listings for Data Analyst Roles\n",
        "\n"
      ],
      "metadata": {
        "id": "RreSfQnP4z7-"
      }
    },
    {
      "cell_type": "code",
      "source": [
        "import requests\n",
        "from bs4 import BeautifulSoup\n",
        "import pandas as pd\n",
        "import matplotlib.pyplot as plt\n",
        "import time\n",
        "import re\n",
        "from collections import Counter\n",
        "import random\n",
        "import sys\n",
        "from datetime import datetime"
      ],
      "metadata": {
        "id": "CN96jcTV5BW9"
      },
      "execution_count": 10,
      "outputs": []
    },
    {
      "cell_type": "markdown",
      "source": [
        "# Config"
      ],
      "metadata": {
        "id": "PT-u_u9q5LUO"
      }
    },
    {
      "cell_type": "code",
      "source": [
        "BASE_SEARCH_URL = \"https://internshala.com/internships/data+analyst-internship\"\n",
        "HEADERS = {\n",
        "    \"User-Agent\": (\"Mozilla/5.0 (Windows NT 10.0; Win64; x64) \"\n",
        "                   \"AppleWebKit/537.36 (KHTML, like Gecko) \"\n",
        "                   \"Chrome/119.0.0.0 Safari/537.36\"),\n",
        "    \"Accept-Language\": \"en-US,en;q=0.9\"\n",
        "}\n",
        "PAGES_TO_SCRAPE = 3        # number of pages to attempt\n",
        "REQUEST_SLEEP = 1.5       # seconds between requests\n",
        "OUTPUT_CSV = \"scraped_data_analyst_jobs.csv\"\n",
        "USE_MOCK_ON_FAIL = True   # fallback to mock data if scraping blocked"
      ],
      "metadata": {
        "id": "Qlljg5FD5Mk-"
      },
      "execution_count": 11,
      "outputs": []
    },
    {
      "cell_type": "markdown",
      "source": [
        "# Helper: generate mock data"
      ],
      "metadata": {
        "id": "qfTv0yEF5W92"
      }
    },
    {
      "cell_type": "code",
      "source": [
        "def generate_mock_data(n=60):\n",
        "    \"\"\"Return a DataFrame of mock job rows (title, company, location, salary, skills).\"\"\"\n",
        "    titles = [\n",
        "        \"Data Analyst Intern\", \"Junior Data Analyst\", \"Business Data Analyst\",\n",
        "        \"Data Science Intern\", \"Data Analyst\", \"Analytics Intern\"\n",
        "    ]\n",
        "    companies = [\n",
        "        \"Alpha Tech\", \"Beta Analytics\", \"Gamma Labs\", \"Delta Solutions\",\n",
        "        \"Epsilon Corp\", \"Zeta Systems\", \"Theta Data\"\n",
        "    ]\n",
        "    locations = [\"Bengaluru\", \"Pune\", \"Hyderabad\", \"Chennai\", \"Mumbai\", \"Noida\", \"Gurugram\"]\n",
        "    salary_samples = [\"₹10,000 - ₹20,000/month\", \"Stipend: ₹15,000\", \"Not Specified\", \"₹8,000\"]\n",
        "    skill_pools = [\n",
        "        [\"python\", \"sql\", \"excel\", \"tableau\"],\n",
        "        [\"sql\", \"excel\", \"power bi\", \"statistics\"],\n",
        "        [\"python\", \"pandas\", \"matplotlib\", \"sql\"],\n",
        "        [\"excel\", \"tableau\", \"communication\", \"sql\"],\n",
        "        [\"python\", \"sql\", \"machine learning\", \"power bi\"]\n",
        "    ]\n",
        "\n",
        "    rows = []\n",
        "    for i in range(n):\n",
        "        skills = random.choice(skill_pools)\n",
        "        descr_skills = \", \".join(random.sample(skills, k=min(len(skills), random.randint(2,4))))\n",
        "        rows.append({\n",
        "            \"title\": random.choice(titles),\n",
        "            \"company\": random.choice(companies),\n",
        "            \"location\": random.choice(locations),\n",
        "            \"salary\": random.choice(salary_samples),\n",
        "            \"skills\": descr_skills\n",
        "        })\n",
        "    df = pd.DataFrame(rows)\n",
        "    return df"
      ],
      "metadata": {
        "id": "tW3Z_LGL58ns"
      },
      "execution_count": 16,
      "outputs": []
    },
    {
      "cell_type": "markdown",
      "source": [
        "# Scraping functions"
      ],
      "metadata": {
        "id": "eeAMHclY6EBD"
      }
    },
    {
      "cell_type": "code",
      "source": [
        "def fetch_page(url, headers=HEADERS):\n",
        "    \"\"\"Return response.text for url, raise an informative exception on HTTP errors.\"\"\"\n",
        "    resp = requests.get(url, headers=headers, timeout=15)\n",
        "    resp.raise_for_status()\n",
        "    return resp.text"
      ],
      "metadata": {
        "id": "OVYVeyfa6EqU"
      },
      "execution_count": 17,
      "outputs": []
    },
    {
      "cell_type": "code",
      "source": [
        "def parse_internshala_search_page(html):\n",
        "    \"\"\"\n",
        "    Parse an Internshala search result page and return list of job dicts.\n",
        "    NOTE: site structure can change; this uses heuristics and multiple fallbacks.\n",
        "    \"\"\"\n",
        "    soup = BeautifulSoup(html, \"lxml\")\n",
        "\n",
        "    # Internshala lists internships typically inside cards. We'll search for a few candidate containers.\n",
        "    job_cards = soup.select(\"div.internship_meta, div.individual_internship, div.other_internship_card\") \\\n",
        "                or soup.find_all(\"div\", class_=re.compile(\"internship\"))\n",
        "    results = []\n",
        "\n",
        "    for card in job_cards:\n",
        "        try:\n",
        "            # Try different selectors in order of likelihood.\n",
        "            title_tag = card.find([\"a\", \"h3\", \"h2\"], class_=re.compile(\"(heading|profile|internship_name|title)\")) \\\n",
        "                        or card.find(\"a\", href=True)\n",
        "            title = title_tag.get_text(separator=\" \").strip() if title_tag else \"Not Specified\"\n",
        "\n",
        "            company_tag = card.find(\"a\", class_=re.compile(\"(company|name)\")) \\\n",
        "                          or card.find(\"div\", class_=re.compile(\"(company|org)\"))\n",
        "            company = company_tag.get_text(separator=\" \").strip() if company_tag else \"Not Specified\"\n",
        "\n",
        "            location_tag = card.find(\"i\", class_=re.compile(\"location\")) \\\n",
        "                           or card.find(\"span\", class_=re.compile(\"location\")) \\\n",
        "                           or card.find(\"div\", class_=re.compile(\"location\"))\n",
        "            location = location_tag.get_text(separator=\" \").strip() if location_tag else \"Not Specified\"\n",
        "\n",
        "            stipend_tag = card.find(\"span\", class_=re.compile(\"stipend|salary|paid\")) \\\n",
        "                         or card.find(\"div\", class_=re.compile(\"stipend\"))\n",
        "            salary = stipend_tag.get_text(separator=\" \").strip() if stipend_tag else \"Not Specified\"\n",
        "\n",
        "            # skills/short description\n",
        "            desc_tag = card.find(\"div\", class_=re.compile(\"details|about|internship_meta|short\")) \\\n",
        "                       or card.find(\"ul\")\n",
        "            skills = desc_tag.get_text(separator=\" \").strip() if desc_tag else \"Not Specified\"\n",
        "\n",
        "            # Normalizing whitespace\n",
        "            skills = re.sub(r\"\\s+\", \" \", skills)\n",
        "            results.append({\n",
        "                \"title\": title,\n",
        "                \"company\": company,\n",
        "                \"location\": location,\n",
        "                \"salary\": salary,\n",
        "                \"skills\": skills\n",
        "            })\n",
        "        except Exception:\n",
        "            # skip malformed card\n",
        "            continue\n",
        "\n",
        "    return results"
      ],
      "metadata": {
        "id": "sMHzZKt_6N1z"
      },
      "execution_count": 18,
      "outputs": []
    },
    {
      "cell_type": "code",
      "source": [
        "def scrape_internshala(pages=PAGES_TO_SCRAPE):\n",
        "    \"\"\"Scrape multiple pages from Internshala and return a DataFrame.\"\"\"\n",
        "    all_jobs = []\n",
        "    for p in range(1, pages + 1):\n",
        "        # Internshala uses page numbers in query params like '?page=2' (if not, check the actual site)\n",
        "        url = BASE_SEARCH_URL + (f\"?page={p}\" if p > 1 else \"\")\n",
        "        print(f\"Fetching page {p} => {url}\")\n",
        "        try:\n",
        "            html = fetch_page(url)\n",
        "            jobs = parse_internshala_search_page(html)\n",
        "            print(f\"  -> Found {len(jobs)} items on page {p}\")\n",
        "            all_jobs.extend(jobs)\n",
        "        except requests.exceptions.HTTPError as he:\n",
        "            print(f\"Error fetching page {p}: {he}\", file=sys.stderr)\n",
        "            raise\n",
        "        except Exception as e:\n",
        "            print(f\"Unexpected error fetching page {p}: {e}\", file=sys.stderr)\n",
        "            raise\n",
        "        time.sleep(REQUEST_SLEEP)\n",
        "    df = pd.DataFrame(all_jobs)\n",
        "    return df\n"
      ],
      "metadata": {
        "id": "MUImguXM6egl"
      },
      "execution_count": 19,
      "outputs": []
    },
    {
      "cell_type": "markdown",
      "source": [
        "# Data cleaning & skill extraction"
      ],
      "metadata": {
        "id": "1IMkNpZU6lZE"
      }
    },
    {
      "cell_type": "code",
      "source": [
        "def clean_dataframe(df):\n",
        "    \"\"\"Clean whitespace and fill missing values.\"\"\"\n",
        "    # Ensure all expected columns exist\n",
        "    for col in [\"title\", \"company\", \"location\", \"salary\", \"skills\"]:\n",
        "        if col not in df.columns:\n",
        "            df[col] = \"Not Specified\"\n",
        "    # Strip whitespace\n",
        "    for col in [\"title\", \"company\", \"location\", \"salary\", \"skills\"]:\n",
        "        df[col] = df[col].astype(str).apply(lambda x: x.strip())\n",
        "        df[col] = df[col].replace({\"\": \"Not Specified\", \"nan\": \"Not Specified\", \"None\": \"Not Specified\"})\n",
        "    return df\n"
      ],
      "metadata": {
        "id": "B9CFBqmu6mR0"
      },
      "execution_count": 20,
      "outputs": []
    },
    {
      "cell_type": "code",
      "source": [
        "def extract_skills_from_text(text):\n",
        "    \"\"\"\n",
        "    Use regex heuristics to find probable skill tokens in a job description string.\n",
        "    Returns a list of normalized skills (lowercase).\n",
        "    \"\"\"\n",
        "    # Common skill keywords to look for (expand as needed)\n",
        "    skill_keywords = [\n",
        "        \"python\", \"sql\", \"excel\", \"tableau\", \"power bi\", \"powerbi\", \"r\", \"pandas\",\n",
        "        \"numpy\", \"matplotlib\", \"seaborn\", \"spark\", \"hadoop\", \"sas\", \"statistical\",\n",
        "        \"machine learning\", \"ml\", \"aws\", \"gcp\", \"bigquery\", \"lookml\", \"powerpoint\",\n",
        "        \"communication\", \"data visualization\", \"analytics\", \"business intelligence\",\n",
        "        \"sql-server\", \"postgresql\", \"mysql\"\n",
        "    ]\n",
        "    s = text.lower()\n",
        "    found = []\n",
        "    # check multi-word first\n",
        "    for kw in sorted(skill_keywords, key=lambda x: -len(x)):\n",
        "        if kw in s:\n",
        "            # normalize\n",
        "            k = kw.replace(\" \", \" \")\n",
        "            found.append(k)\n",
        "            # remove to avoid duplicate matches\n",
        "            s = s.replace(kw, \" \")\n",
        "    # fallback: grab capitalized tokens or words that look like skill names (letters/numbers)\n",
        "    words = re.findall(r\"\\b[a-zA-Z\\+\\#]{2,}\\b\", text)\n",
        "    # Add high-frequency single tokens that look like skills\n",
        "    for w in words:\n",
        "        lw = w.lower()\n",
        "        if lw in [\"python\", \"sql\", \"r\", \"excel\", \"tableau\", \"power\", \"powerbi\", \"pandas\", \"numpy\"]:\n",
        "            if lw not in found:\n",
        "                found.append(lw)\n",
        "    # final dedupe\n",
        "    found_norm = []\n",
        "    for x in found:\n",
        "        xn = re.sub(r\"\\s+\", \" \", x.strip())\n",
        "        if xn and xn not in found_norm:\n",
        "            found_norm.append(xn)\n",
        "    return found_norm"
      ],
      "metadata": {
        "id": "rHv6q9ix6020"
      },
      "execution_count": 21,
      "outputs": []
    },
    {
      "cell_type": "markdown",
      "source": [
        "# Analysis & Visualization"
      ],
      "metadata": {
        "id": "hU_6dK0-67cP"
      }
    },
    {
      "cell_type": "code",
      "source": [
        "def analyze_and_plot(df, top_n_locations=5, top_n_skills=10, save_plots=True):\n",
        "    \"\"\"Perform analysis, print summary, and produce simple plots (bar and pie).\"\"\"\n",
        "    df = clean_dataframe(df)\n",
        "\n",
        "    total_jobs = len(df)\n",
        "    print(f\"\\n✅ Total jobs available in dataset: {total_jobs}\")\n",
        "\n",
        "    # Top locations\n",
        "    top_locations = df[\"location\"].value_counts().head(top_n_locations)\n",
        "    print(\"\\n📍 Top locations:\")\n",
        "    print(top_locations.to_string())\n",
        "\n",
        "    # Skills extraction: build a counter\n",
        "    all_skills = []\n",
        "    for s in df[\"skills\"].fillna(\"Not Specified\"):\n",
        "        list_sk = extract_skills_from_text(s)\n",
        "        all_skills.extend(list_sk)\n",
        "\n",
        "    skill_counts = Counter(all_skills)\n",
        "    top_skills = skill_counts.most_common(top_n_skills)\n",
        "    print(\"\\n💡 Top skills (extracted):\")\n",
        "    for skill, cnt in top_skills:\n",
        "        print(f\"  - {skill}: {cnt}\")\n",
        "\n",
        "    # Save summary to file\n",
        "    summary = {\n",
        "        \"total_jobs\": total_jobs,\n",
        "        \"top_locations\": top_locations.to_dict(),\n",
        "        \"top_skills\": {k: v for k, v in top_skills}\n",
        "    }\n",
        "\n",
        "    # Plots\n",
        "    if total_jobs > 0:\n",
        "        # Bar plot for top locations\n",
        "        plt.figure(figsize=(8, 5))\n",
        "        top_locations.plot(kind=\"bar\")\n",
        "        plt.title(\"Top Job Locations\")\n",
        "        plt.xlabel(\"Location\")\n",
        "        plt.ylabel(\"Number of jobs\")\n",
        "        plt.tight_layout()\n",
        "        if save_plots:\n",
        "            fname = f\"top_locations_{datetime.now().strftime('%Y%m%d_%H%M%S')}.png\"\n",
        "            plt.savefig(fname)\n",
        "            print(f\"\\nSaved location bar chart to: {fname}\")\n",
        "        plt.show()\n",
        "\n",
        "        # Pie for top skills\n",
        "        if len(top_skills) > 0:\n",
        "            skills_df = pd.DataFrame(top_skills, columns=[\"skill\", \"count\"]).set_index(\"skill\")\n",
        "            plt.figure(figsize=(6, 6))\n",
        "            skills_df.plot(kind=\"pie\", y=\"count\", autopct=\"%1.1f%%\", legend=False)\n",
        "            plt.title(\"Top Skills (extracted)\")\n",
        "            plt.ylabel(\"\")\n",
        "            plt.tight_layout()\n",
        "            if save_plots:\n",
        "                fname = f\"top_skills_{datetime.now().strftime('%Y%m%d_%H%M%S')}.png\"\n",
        "                plt.savefig(fname)\n",
        "                print(f\"Saved skills pie chart to: {fname}\")\n",
        "            plt.show()\n",
        "    else:\n",
        "        print(\"No data to plot.\")"
      ],
      "metadata": {
        "id": "ybKFxrWX68Yr"
      },
      "execution_count": 22,
      "outputs": []
    },
    {
      "cell_type": "markdown",
      "source": [
        "# Main runner"
      ],
      "metadata": {
        "id": "Te_fjk107P89"
      }
    },
    {
      "cell_type": "code",
      "source": [
        "def main():\n",
        "    # Try scraping\n",
        "    try:\n",
        "        print(\"Attempting to scrape Internshala...\")\n",
        "        df_scraped = scrape_internshala(PAGES_TO_SCRAPE)\n",
        "        if df_scraped.empty:\n",
        "            raise ValueError(\"Scraped dataframe is empty.\")\n",
        "        df_scraped = clean_dataframe(df_scraped)\n",
        "        # Save CSV\n",
        "        df_scraped.to_csv(OUTPUT_CSV, index=False)\n",
        "        print(f\"\\nScraped data saved to: {OUTPUT_CSV}\")\n",
        "        analyze_and_plot(df_scraped)\n",
        "    except requests.exceptions.HTTPError as he:\n",
        "        print(f\"\\nHTTP error during scraping: {he}\", file=sys.stderr)\n",
        "        if USE_MOCK_ON_FAIL:\n",
        "            print(\"Falling back to mock dataset.\")\n",
        "            df_mock = generate_mock_data(60)\n",
        "            df_mock.to_csv(OUTPUT_CSV, index=False)\n",
        "            print(f\"Mock data saved to: {OUTPUT_CSV}\")\n",
        "            analyze_and_plot(df_mock)\n",
        "        else:\n",
        "            print(\"Exiting due to scraping error.\")\n",
        "            sys.exit(1)\n",
        "    except Exception as e:\n",
        "        # Generic fallback: show mock dataset so analysis can still run\n",
        "        print(f\"\\nUnexpected scraping error: {e}\", file=sys.stderr)\n",
        "        if USE_MOCK_ON_FAIL:\n",
        "            print(\"Falling back to mock dataset.\")\n",
        "            df_mock = generate_mock_data(60)\n",
        "            df_mock.to_csv(OUTPUT_CSV, index=False)\n",
        "            print(f\"Mock data saved to: {OUTPUT_CSV}\")\n",
        "            analyze_and_plot(df_mock)\n",
        "        else:\n",
        "            raise\n",
        "\n",
        "\n",
        "if __name__ == \"__main__\":\n",
        "    main()"
      ],
      "metadata": {
        "colab": {
          "base_uri": "https://localhost:8080/",
          "height": 1000
        },
        "id": "m5dd-A-d7RDV",
        "outputId": "e5556cc1-d2ee-4d00-e166-69fa6362524b"
      },
      "execution_count": 23,
      "outputs": [
        {
          "output_type": "stream",
          "name": "stdout",
          "text": [
            "Attempting to scrape Internshala...\n",
            "Fetching page 1 => https://internshala.com/internships/data+analyst-internship\n",
            "  -> Found 81 items on page 1\n",
            "Fetching page 2 => https://internshala.com/internships/data+analyst-internship?page=2\n",
            "  -> Found 81 items on page 2\n",
            "Fetching page 3 => https://internshala.com/internships/data+analyst-internship?page=3\n",
            "  -> Found 81 items on page 3\n",
            "\n",
            "Scraped data saved to: scraped_data_analyst_jobs.csv\n",
            "\n",
            "✅ Total jobs available in dataset: 243\n",
            "\n",
            "📍 Top locations:\n",
            "location\n",
            "Mumbai            24\n",
            "Bangalore         18\n",
            "Kolkata           18\n",
            "Work from home    12\n",
            "Gurgaon           12\n",
            "\n",
            "💡 Top skills (extracted):\n",
            "  - r: 240\n",
            "  - communication: 108\n",
            "  - excel: 90\n",
            "  - powerpoint: 66\n",
            "  - analytics: 12\n",
            "  - matplotlib: 6\n",
            "  - power bi: 6\n",
            "  - tableau: 6\n",
            "  - seaborn: 6\n",
            "  - python: 6\n",
            "\n",
            "Saved location bar chart to: top_locations_20250916_142838.png\n"
          ]
        },
        {
          "output_type": "display_data",
          "data": {
            "text/plain": [
              "<Figure size 800x500 with 1 Axes>"
            ],
            "image/png": "[encoded data removed]"
          },
          "metadata": {}
        },
        {
          "output_type": "stream",
          "name": "stdout",
          "text": [
            "Saved skills pie chart to: top_skills_20250916_142839.png\n"
          ]
        },
        {
          "output_type": "display_data",
          "data": {
            "text/plain": [
              "<Figure size 600x600 with 0 Axes>"
            ]
          },
          "metadata": {}
        },
        {
          "output_type": "display_data",
          "data": {
            "text/plain": [
              "<Figure size 640x480 with 1 Axes>"
            ],
            "image/png": "[encoded data removed]"
          },
          "metadata": {}
        }
      ]
    }
  ]
}